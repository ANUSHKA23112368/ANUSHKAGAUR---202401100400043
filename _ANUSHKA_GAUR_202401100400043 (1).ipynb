{
  "nbformat": 4,
  "nbformat_minor": 0,
  "metadata": {
    "colab": {
      "provenance": []
    },
    "kernelspec": {
      "name": "python3",
      "display_name": "Python 3"
    },
    "language_info": {
      "name": "python"
    }
  },
  "cells": [
    {
      "cell_type": "code",
      "execution_count": 6,
      "metadata": {
        "colab": {
          "base_uri": "https://localhost:8080/"
        },
        "id": "9eVCq-TBPhVc",
        "outputId": "8ea92f33-0a78-4fb9-a154-7bab3e71237e"
      },
      "outputs": [
        {
          "output_type": "stream",
          "name": "stdout",
          "text": [
            "Solved Sudoku board:\n",
            "5 3 4 6 7 8 9 1 2\n",
            "6 7 2 1 9 5 3 4 8\n",
            "1 9 8 3 4 2 5 6 7\n",
            "8 5 9 7 6 1 4 2 3\n",
            "4 2 6 8 5 3 7 9 1\n",
            "7 1 3 9 2 4 8 5 6\n",
            "9 6 1 5 3 7 2 8 4\n",
            "2 8 7 4 1 9 6 3 5\n",
            "3 4 5 2 8 6 1 7 9\n"
          ]
        }
      ],
      "source": [
        "# Function to check if a number can be placed in a given cell\n",
        "def is_valid(board, row, col, num):\n",
        "    # Check if the number is not already in the current row\n",
        "    for i in range(9):\n",
        "        if board[row][i] == num:  # If the number is found in the row, return False\n",
        "            return False\n",
        "        # Check if the number is not already in the current column\n",
        "        if board[i][col] == num:  # If the number is found in the column, return False\n",
        "            return False\n",
        "        # Check if the number is not already in the 3x3 subgrid\n",
        "        if board[3 * (row // 3) + i // 3][3 * (col // 3) + i % 3] == num:\n",
        "            return False\n",
        "    return True  # Return True if the number is valid for the cell\n",
        "\n",
        "# Function to solve the Sudoku puzzle using backtracking\n",
        "def solve_sudoku(board):\n",
        "    # Iterate over each cell in the grid\n",
        "    for row in range(9):\n",
        "        for col in range(9):\n",
        "            if board[row][col] == 0:  # Check if the cell is empty\n",
        "                # Try all numbers from 1 to 9\n",
        "                for num in range(1, 10):\n",
        "                    if is_valid(board, row, col, num):  # Check if the number is valid\n",
        "                        board[row][col] = num  # Place the number in the cell\n",
        "                        if solve_sudoku(board):  # Recursively attempt to solve the rest of the board\n",
        "                            return True  # If successful, return True\n",
        "                        board[row][col] = 0  # Backtrack by resetting the cell to empty\n",
        "                return False  # If no number is valid, return False to backtrack\n",
        "    return True  # Return True if the board is solved\n",
        "\n",
        "# Function to print the Sudoku board\n",
        "def print_board(board):\n",
        "    for row in board:  # Loop through each row in the board\n",
        "        # Print the row, replacing 0 with \".\" for empty cells\n",
        "        print(\" \".join(str(num) if num != 0 else \".\" for num in row))\n",
        "\n",
        "# Example Sudoku puzzle with 0 representing empty cells\n",
        "sudoku_board = [\n",
        "    [5, 3, 0, 0, 7, 0, 0, 0, 0],  # Row 1\n",
        "    [6, 0, 0, 1, 9, 5, 0, 0, 0],  # Row 2\n",
        "    [0, 9, 8, 0, 0, 0, 0, 6, 0],  # Row 3\n",
        "    [8, 0, 0, 0, 6, 0, 0, 0, 3],  # Row 4\n",
        "    [4, 0, 0, 8, 0, 3, 0, 0, 1],  # Row 5\n",
        "    [7, 0, 0, 0, 2, 0, 0, 0, 6],  # Row 6\n",
        "    [0, 6, 0, 0, 0, 0, 2, 8, 0],  # Row 7\n",
        "    [0, 0, 0, 4, 1, 9, 0, 0, 5],  # Row 8\n",
        "    [0, 0, 0, 0, 8, 0, 0, 7, 9]   # Row 9\n",
        "]\n",
        "\n",
        "# Solve the puzzle and print the result\n",
        "if solve_sudoku(sudoku_board):  # Check if a solution exists\n",
        "    print(\"Solved Sudoku board:\")  # Print success message\n",
        "    print_board(sudoku_board)  # Display the solved board\n",
        "else:\n",
        "    print(\"No solution exists.\")  # Print failure message if no solution is found\n"
      ]
    },
    {
      "cell_type": "code",
      "source": [],
      "metadata": {
        "id": "HBvUIa8LRjBV"
      },
      "execution_count": null,
      "outputs": []
    },
    {
      "cell_type": "code",
      "source": [],
      "metadata": {
        "id": "W-Agz23fRkJr"
      },
      "execution_count": null,
      "outputs": []
    }
  ]
}